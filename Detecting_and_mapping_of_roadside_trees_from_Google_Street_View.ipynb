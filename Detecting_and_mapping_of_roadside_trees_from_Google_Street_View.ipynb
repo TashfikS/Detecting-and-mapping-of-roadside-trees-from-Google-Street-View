{
  "nbformat": 4,
  "nbformat_minor": 0,
  "metadata": {
    "colab": {
      "name": "Detecting and mapping of roadside trees from Google Street View.ipynb",
      "provenance": [],
      "collapsed_sections": [
        "i0befsurk0EK",
        "PeQ1Hpdek5Cf",
        "NBTPVMVUlpmY",
        "-epp-gRkl2ZC",
        "MqYYfAePmOt4",
        "AoSEnDnumk5e",
        "7GS6QfO-6RwS",
        "Zux1daS464uw",
        "oQlHoXZz7nXq",
        "cal1McQI80D7",
        "1MbaHXwdAIbL",
        "oGFyhrxrgPxI",
        "mS_HMld1D8mK",
        "HwyQbOAzEJMT",
        "anLb9z5FBrw2",
        "8F_pfJINCHph",
        "E2fbBQnDCRZt",
        "ifaXLSHDCbB0",
        "rebSNNtFCwYa",
        "VLSIorfyDMtk",
        "8h8vrF56RE0a",
        "QOJrrc7RRtTP",
        "DIOJohTxSQo2",
        "I98ncVxWTJWo",
        "aKtdwX5X6R0v",
        "SsY_xKzX6up4",
        "F1uSlyKa60wr",
        "c2mjGQ6M6_fv",
        "qeJiSRes7mTA",
        "nqLinqHLhkXa",
        "zgWZ08w6hKcR",
        "U1bxjZHmhx-M",
        "UUcCDTa5iIIw",
        "sNpHSgTLiTxs",
        "hHprztD7idd1",
        "GO0bFfkeioaX",
        "vDDvXfL8iukv",
        "dnFpNDYri4Qt",
        "A-VGKjd7jd05",
        "22opOD_Wj3C_",
        "ZwxxFi5OkBp5",
        "R3EFLvNOkKL-",
        "-e93uHySEtFu",
        "lvZ6Kpb_GWd3",
        "FBdDPSqVkSrL",
        "HO5BwEThkYYY"
      ],
      "toc_visible": true
    },
    "kernelspec": {
      "name": "python3",
      "display_name": "Python 3"
    },
    "language_info": {
      "name": "python"
    },
    "gpuClass": "standard"
  },
  "cells": [
    {
      "cell_type": "markdown",
      "source": [
        "# YOLOv4 Setup"
      ],
      "metadata": {
        "id": "i0befsurk0EK"
      }
    },
    {
      "cell_type": "markdown",
      "source": [
        "## Mount with Google drive"
      ],
      "metadata": {
        "id": "PeQ1Hpdek5Cf"
      }
    },
    {
      "cell_type": "code",
      "source": [
        "from google.colab import drive\n",
        "drive.mount('/Detecting_and_mapping_of_roadside_trees_from_google_street')"
      ],
      "metadata": {
        "id": "FyOEOUxCk8qF"
      },
      "execution_count": null,
      "outputs": []
    },
    {
      "cell_type": "markdown",
      "source": [
        "## Arranging directories"
      ],
      "metadata": {
        "id": "NBTPVMVUlpmY"
      }
    },
    {
      "cell_type": "code",
      "source": [
        "%cd /Detecting_and_mapping_of_roadside_trees_from_google_street/MyDrive\n",
        "%mkdir Thesis\n",
        "%cd /Detecting_and_mapping_of_roadside_trees_from_google_street/MyDrive/Thesis\n",
        "%mkdir YOLOv4\n",
        "%cd /Detecting_and_mapping_of_roadside_trees_from_google_street/MyDrive/Thesis/YOLOv4"
      ],
      "metadata": {
        "id": "SgytLFsvk-sT"
      },
      "execution_count": null,
      "outputs": []
    },
    {
      "cell_type": "markdown",
      "source": [
        "## Cloning darknet repo"
      ],
      "metadata": {
        "id": "-epp-gRkl2ZC"
      }
    },
    {
      "cell_type": "code",
      "source": [
        "!git clone https://github.com/AlexeyAB/darknet"
      ],
      "metadata": {
        "id": "OzV9jOzIlzDL"
      },
      "execution_count": null,
      "outputs": []
    },
    {
      "cell_type": "markdown",
      "source": [
        "## Adjusting changes & building \"Makefile\" "
      ],
      "metadata": {
        "id": "MqYYfAePmOt4"
      }
    },
    {
      "cell_type": "code",
      "source": [
        "%cd darknet\n",
        "!sed -i 's/OPENCV=0/OPENCV=1/' Makefile\n",
        "!sed -i 's/GPU=0/GPU=1/' Makefile\n",
        "!sed -i 's/CUDNN=0/CUDNN=1/' Makefile\n",
        "!sed -i 's/CUDNN_HALF=0/CUDNN_HALF=1/' Makefile"
      ],
      "metadata": {
        "id": "ShVEkbGMl-V9"
      },
      "execution_count": null,
      "outputs": []
    },
    {
      "cell_type": "code",
      "source": [
        "!make"
      ],
      "metadata": {
        "id": "g2vv9mrgmLEu"
      },
      "execution_count": null,
      "outputs": []
    },
    {
      "cell_type": "markdown",
      "source": [
        "## Download pre-trained YOLOv4 weights"
      ],
      "metadata": {
        "id": "AoSEnDnumk5e"
      }
    },
    {
      "cell_type": "code",
      "source": [
        "!wget https://github.com/AlexeyAB/darknet/releases/download/darknet_yolo_v3_optimal/yolov4.weights"
      ],
      "metadata": {
        "id": "YqAgKiVNmfsT"
      },
      "execution_count": null,
      "outputs": []
    },
    {
      "cell_type": "markdown",
      "source": [
        "# Data Augmentation "
      ],
      "metadata": {
        "id": "7GS6QfO-6RwS"
      }
    },
    {
      "cell_type": "markdown",
      "source": [
        "## Prerequisite"
      ],
      "metadata": {
        "id": "Zux1daS464uw"
      }
    },
    {
      "cell_type": "code",
      "source": [
        "!pip install -q -U albumentations\n",
        "!echo \"$(pip freeze | grep albumentations) is successfully installed\"\n",
        "\n",
        "!pip install --upgrade albumentations\n",
        "\n",
        "! pip install --upgrade albumentations"
      ],
      "metadata": {
        "id": "Gx7LnRNE6Yho"
      },
      "execution_count": null,
      "outputs": []
    },
    {
      "cell_type": "markdown",
      "source": [
        "## Setting up location & folders"
      ],
      "metadata": {
        "id": "oQlHoXZz7nXq"
      }
    },
    {
      "cell_type": "code",
      "source": [
        "%cd /Detecting_and_mapping_of_roadside_trees_from_google_street/MyDrive/Thesis/New_Dataset\n",
        "\n",
        "%mkdir Blur_BD_740\n",
        "%mkdir Blur_BD_755\n",
        "%mkdir Flip_BD_740\n",
        "%mkdir Flip_BD_755\n",
        "%mkdir PasadenaUrbanTrees_Blur\n",
        "%mkdir PasadenaUrbanTrees_Flip"
      ],
      "metadata": {
        "id": "UKnwkkkH7I-I"
      },
      "execution_count": null,
      "outputs": []
    },
    {
      "cell_type": "markdown",
      "source": [
        "## Horizontal Flip"
      ],
      "metadata": {
        "id": "cal1McQI80D7"
      }
    },
    {
      "cell_type": "code",
      "source": [
        "def retrieve_data(img_label_name):\n",
        "  bbox = []\n",
        "  im = cv2.imread(image_loc_path+img_label_name+\".jpg\")\n",
        "  img = cv2.cvtColor(im, cv2.COLOR_BGR2RGB)\n",
        "  fl = open(image_loc_path+img_label_name+\".txt\", 'r')\n",
        "  data = fl.readlines()\n",
        "  fl.close()\n",
        "  for dt in data:\n",
        "    _, x_center, y_center, width, height = map(float, dt.split(' '))\n",
        "    str_bbox = x_center,y_center,width,height,class_id\n",
        "    bbox.append(str_bbox)\n",
        "  bboxes = np.asarray(bbox)\n",
        "  return img, bboxes"
      ],
      "metadata": {
        "id": "v27TgVoR7VVV"
      },
      "execution_count": null,
      "outputs": []
    },
    {
      "cell_type": "code",
      "source": [
        "def flip_image(imageT):\n",
        "    \"\"\"\n",
        "    :param img_arr: original image as a numpy array\n",
        "    :param bboxes: bboxes as numpy array where each row is 'x_min', 'y_min', 'x_max', 'y_max', \"class_id\"\n",
        "    :param h: resized height dimension of image\n",
        "    :param w: resized weight dimension of image\n",
        "    :return: dictionary containing {image:transformed, bboxes:['x_min', 'y_min', 'x_max', 'y_max', \"class_id\"]}\n",
        "    \"\"\"\n",
        "    img_arr, bboxes = retrieve_data(imageT)\n",
        "    transform = A.Compose(\n",
        "        [\n",
        "         A.HorizontalFlip(p=0.5)],\n",
        "        bbox_params=A.BboxParams(format='yolo'))\n",
        "\n",
        "    transformed = transform(image=img_arr, bboxes=bboxes)\n",
        "\n",
        "    return transformed"
      ],
      "metadata": {
        "id": "jW8ctIE97bQv"
      },
      "execution_count": null,
      "outputs": []
    },
    {
      "cell_type": "code",
      "source": [
        "def save_flip_img_txt(imageT):\n",
        "  transformed_dict = flip_image(imageT)\n",
        "  # contains the image as array\n",
        "  transformed_arr = transformed_dict[\"image\"]\n",
        "\n",
        "  # contains the resized bounding boxes\n",
        "  transformed_info = np.array(list(map(list, transformed_dict[\"bboxes\"]))).astype(float)\n",
        "\n",
        "  img = Image.fromarray(transformed_arr, 'RGB')\n",
        "  img.save(image_loc_after_flip+str(img_name_cont)+'.jpg')\n",
        "\n",
        "  for i in range(len(transformed_info)):\n",
        "    temp = str(int(transformed_info[i,4]))+' '+str(transformed_info[i,0])+' '+str(transformed_info[i,1])+' '+str(transformed_info[i,2])+' '+str(transformed_info[i,3])\n",
        "    f= open(image_loc_after_flip+str(img_name_cont)+'.txt','a')\n",
        "    f.write(str(temp))\n",
        "    f.write(\"\\n\")\n",
        "    f.close()\n"
      ],
      "metadata": {
        "id": "sQNXxkgp7esy"
      },
      "execution_count": null,
      "outputs": []
    },
    {
      "cell_type": "code",
      "source": [
        "img_name_cont = 1\n",
        "class_id = 0\n",
        "image_loc_after_flip = '/Thesis/MyDrive/Thesis/New_Dataset/Test_Set/Flip_Test_Set_270/'\n",
        "image_loc_path = '/Thesis/MyDrive/Thesis/New_Dataset/Test_Set/Test_Set_270/'\n",
        "train_valid_loc = '/content/'\n",
        "\n",
        "for imagePath in glob.glob(image_loc_path+'*.jpg'):\n",
        "    imageTitle = imagePath.split('/')[-1]\n",
        "    imageT = imageTitle.split('.')[-2]\n",
        "    save_flip_img_txt(str(imageT))\n",
        "    img_name_cont = img_name_cont + 1"
      ],
      "metadata": {
        "id": "GzS_KI-z78aq"
      },
      "execution_count": null,
      "outputs": []
    },
    {
      "cell_type": "code",
      "source": [
        "img_name_cont = 1\n",
        "class_id = 0\n",
        "image_loc_after_flip = '/Thesis/MyDrive/Thesis/New_Dataset/Flip_BD_740/'\n",
        "image_loc_path = '/Thesis/MyDrive/Thesis/New_Dataset/BD_740/'\n",
        "train_valid_loc = '/content/'\n",
        "\n",
        "for imagePath in glob.glob(image_loc_path+'*.jpg'):\n",
        "    imageTitle = imagePath.split('/')[-1]\n",
        "    imageT = imageTitle.split('.')[-2]\n",
        "    save_flip_img_txt(str(imageT))\n",
        "    img_name_cont = img_name_cont + 1"
      ],
      "metadata": {
        "id": "sbiAamsv8Duw"
      },
      "execution_count": null,
      "outputs": []
    },
    {
      "cell_type": "code",
      "source": [
        "img_name_cont = 1\n",
        "class_id = 0\n",
        "image_loc_after_flip = '/Thesis/MyDrive/Thesis/New_Dataset/Flip_BD_755/'\n",
        "image_loc_path = '/Thesis/MyDrive/Thesis/New_Dataset/BD_755/'\n",
        "train_valid_loc = '/content/'\n",
        "\n",
        "for imagePath in glob.glob(image_loc_path+'*.jpg'):\n",
        "    imageTitle = imagePath.split('/')[-1]\n",
        "    imageT = imageTitle.split('.')[-2]\n",
        "    save_flip_img_txt(str(imageT))\n",
        "    img_name_cont = img_name_cont + 1"
      ],
      "metadata": {
        "id": "htkOCO5B8IZo"
      },
      "execution_count": null,
      "outputs": []
    },
    {
      "cell_type": "markdown",
      "source": [
        "## Blur"
      ],
      "metadata": {
        "id": "1MbaHXwdAIbL"
      }
    },
    {
      "cell_type": "code",
      "source": [
        "def flip_image(imageT):\n",
        "    \"\"\"\n",
        "    :param img_arr: original image as a numpy array\n",
        "    :param bboxes: bboxes as numpy array where each row is 'x_min', 'y_min', 'x_max', 'y_max', \"class_id\"\n",
        "    :param h: resized height dimension of image\n",
        "    :param w: resized weight dimension of image\n",
        "    :return: dictionary containing {image:transformed, bboxes:['x_min', 'y_min', 'x_max', 'y_max', \"class_id\"]}\n",
        "    \"\"\"\n",
        "    img_arr, bboxes = retrieve_data(imageT)\n",
        "    # create resize transform pipeline\n",
        "    transform = A.Compose(\n",
        "        [\n",
        "         A.Blur(blur_limit=7, always_apply=True, p=0.5)],\n",
        "        bbox_params=A.BboxParams(format='yolo'))\n",
        "\n",
        "    transformed = transform(image=img_arr, bboxes=bboxes)\n",
        "\n",
        "    return transformed"
      ],
      "metadata": {
        "id": "9xKaySpdALar"
      },
      "execution_count": null,
      "outputs": []
    },
    {
      "cell_type": "code",
      "source": [
        "def save_flip_img_txt(imageT):\n",
        "  transformed_dict = flip_image(imageT)\n",
        "  # contains the image as array\n",
        "  transformed_arr = transformed_dict[\"image\"]\n",
        "\n",
        "  # contains the resized bounding boxes\n",
        "  transformed_info = np.array(list(map(list, transformed_dict[\"bboxes\"]))).astype(float)\n",
        "\n",
        "  img = Image.fromarray(transformed_arr, 'RGB')\n",
        "  img.save(image_loc_after_flip+str(img_name_cont)+'.jpg')\n",
        "\n",
        "  for i in range(len(transformed_info)):\n",
        "    temp = str(int(transformed_info[i,4]))+' '+str(transformed_info[i,0])+' '+str(transformed_info[i,1])+' '+str(transformed_info[i,2])+' '+str(transformed_info[i,3])\n",
        "    f= open(image_loc_after_flip+str(img_name_cont)+'.txt','a')\n",
        "    f.write(str(temp))\n",
        "    f.write(\"\\n\")\n",
        "    f.close()"
      ],
      "metadata": {
        "id": "kH1aP7dSAPJ-"
      },
      "execution_count": null,
      "outputs": []
    },
    {
      "cell_type": "code",
      "source": [
        "img_name_cont = 1\n",
        "class_id = 0\n",
        "image_loc_after_flip = '/Thesis/MyDrive/Thesis/New_Dataset/Test_Set/Blur_Test_Set_270/'\n",
        "image_loc_path = '/Thesis/MyDrive/Thesis/New_Dataset/Test_Set/Test_Set_270/'\n",
        "train_valid_loc = '/content/'\n",
        "\n",
        "for imagePath in glob.glob(image_loc_path+'*.jpg'):\n",
        "    imageTitle = imagePath.split('/')[-1]\n",
        "    imageT = imageTitle.split('.')[-2]\n",
        "    save_flip_img_txt(str(imageT))\n",
        "    img_name_cont = img_name_cont + 1"
      ],
      "metadata": {
        "id": "aj4R6AN9ARmr"
      },
      "execution_count": null,
      "outputs": []
    },
    {
      "cell_type": "code",
      "source": [
        "img_name_cont = 1\n",
        "class_id = 0\n",
        "image_loc_after_flip = '/Thesis/MyDrive/Thesis/New_Dataset/Blur_BD_740/'\n",
        "image_loc_path = '/Thesis/MyDrive/Thesis/New_Dataset/BD_740/'\n",
        "train_valid_loc = '/content/'\n",
        "\n",
        "for imagePath in glob.glob(image_loc_path+'*.jpg'):\n",
        "    imageTitle = imagePath.split('/')[-1]\n",
        "    imageT = imageTitle.split('.')[-2]\n",
        "    save_flip_img_txt(str(imageT))\n",
        "    img_name_cont = img_name_cont + 1"
      ],
      "metadata": {
        "id": "tByDUyz-AWZS"
      },
      "execution_count": null,
      "outputs": []
    },
    {
      "cell_type": "code",
      "source": [
        "img_name_cont = 1\n",
        "class_id = 0\n",
        "image_loc_after_flip = '/Thesis/MyDrive/Thesis/New_Dataset/Blur_BD_755/'\n",
        "image_loc_path = '/Thesis/MyDrive/Thesis/New_Dataset/BD_755/'\n",
        "train_valid_loc = '/content/'\n",
        "\n",
        "for imagePath in glob.glob(image_loc_path+'*.jpg'): \n",
        "    imageTitle = imagePath.split('/')[-1]\n",
        "    imageT = imageTitle.split('.')[-2]\n",
        "    save_flip_img_txt(str(imageT))\n",
        "    img_name_cont = img_name_cont + 1"
      ],
      "metadata": {
        "id": "QEKl9dwxAZDm"
      },
      "execution_count": null,
      "outputs": []
    },
    {
      "cell_type": "markdown",
      "source": [
        "# Arranging necessary files\n"
      ],
      "metadata": {
        "id": "oGFyhrxrgPxI"
      }
    },
    {
      "cell_type": "markdown",
      "source": [
        "## Downloading manually labeled data"
      ],
      "metadata": {
        "id": "mS_HMld1D8mK"
      }
    },
    {
      "cell_type": "code",
      "source": [
        "from pathlib import Path\n",
        "from google_drive_downloader import GoogleDriveDownloader as gdd\n",
        "\n",
        "DATA_PATH = '/Detecting_and_mapping_of_roadside_trees_from_google_street/MyDrive/Thesis/New_Dataset.zip'\n",
        "if not Path(DATA_PATH).is_file():\n",
        "    gdd.download_file_from_google_drive(\n",
        "        file_id='1eNcXv5PfGqbGwq5sqZVFMlP12HG1K8rd',\n",
        "        dest_path=DATA_PATH,\n",
        "    )"
      ],
      "metadata": {
        "id": "10EICJP7gXhF"
      },
      "execution_count": null,
      "outputs": []
    },
    {
      "cell_type": "code",
      "source": [
        "%cd /Detecting_and_mapping_of_roadside_trees_from_google_street/MyDrive/Thesis\n",
        "!unzip \\*.zip && rm *.zip"
      ],
      "metadata": {
        "id": "6C73mKamr7uY"
      },
      "execution_count": null,
      "outputs": []
    },
    {
      "cell_type": "markdown",
      "source": [
        "## Arranging necessary files"
      ],
      "metadata": {
        "id": "HwyQbOAzEJMT"
      }
    },
    {
      "cell_type": "code",
      "source": [
        "import os\n",
        "import glob\n",
        "\n",
        "data = []\n",
        "\n",
        "rootdir = '/Detecting_and_mapping_of_roadside_trees_from_google_street/MyDrive/Thesis/New_Dataset'\n",
        "for file in os.listdir(rootdir):\n",
        "    d = os.path.join(rootdir, file)\n",
        "    if os.path.isdir(d):\n",
        "      for imagePath in glob.glob(d+'/'+'*.jpg'):\n",
        "        data.append(imagePath)\n",
        "\n",
        "print(len(data))"
      ],
      "metadata": {
        "id": "fe7YxsQ0r-52"
      },
      "execution_count": null,
      "outputs": []
    },
    {
      "cell_type": "code",
      "source": [
        "import math\n",
        "\n",
        "train_data_list = []\n",
        "valid_data_list = []\n",
        "test_data_list = []\n",
        "\n",
        "for i in range(math.ceil(len(data)*0.7)):\n",
        "  train_data_list.append(data[i])\n",
        "\n",
        "for i in range(len(data)):\n",
        "  if data[i] not in train_data_list and len(valid_data_list) <= math.ceil(len(data)*0.2):\n",
        "    valid_data_list.append(data[i])\n",
        "  elif data[i] not in train_data_list and data[i] not in valid_data_list and len(test_data_list) <= math.ceil(len(data)*0.1):\n",
        "    test_data_list.append(data[i])\n",
        "\n",
        "print(len(data))\n",
        "print(len(train_data_list))\n",
        "print(len(valid_data_list))\n",
        "print(len(test_data_list))\n"
      ],
      "metadata": {
        "id": "SR5Uv-K_tSeD"
      },
      "execution_count": null,
      "outputs": []
    },
    {
      "cell_type": "code",
      "source": [
        "obj_data = ['classes = 1',\n",
        "            'train = data/train.txt',\n",
        "            'valid = data/valid.txt',\n",
        "            'names = data/obj.names',\n",
        "            'backup = backup']\n",
        "\n",
        "with open(r'/Detecting_and_mapping_of_roadside_trees_from_google_street/MyDrive/Thesis/YOLOv4/darknet/data/obj.data', 'w') as fp:\n",
        "    for item in obj_data:\n",
        "        fp.write(\"%s\\n\" % item)\n",
        "    print('Done')"
      ],
      "metadata": {
        "id": "JeGxdu-J3ks5"
      },
      "execution_count": null,
      "outputs": []
    },
    {
      "cell_type": "code",
      "source": [
        "obj_names_data = ['Tree']\n",
        "\n",
        "with open(r'/Detecting_and_mapping_of_roadside_trees_from_google_street/MyDrive/Thesis/YOLOv4/darknet/data/obj.names', 'w') as fp:\n",
        "    for item in obj_names_data:\n",
        "        fp.write(\"%s\" % item)\n",
        "    print('Done')"
      ],
      "metadata": {
        "id": "7rOhJfa-5MFp"
      },
      "execution_count": null,
      "outputs": []
    },
    {
      "cell_type": "code",
      "source": [
        "with open(r'/Detecting_and_mapping_of_roadside_trees_from_google_street/MyDrive/Thesis/YOLOv4/darknet/data/train.txt', 'w') as fp:\n",
        "    for item in train_data_list:\n",
        "        fp.write(\"%s\\n\" % item)\n",
        "    print('Done')"
      ],
      "metadata": {
        "id": "EfESH5Ga21RJ"
      },
      "execution_count": null,
      "outputs": []
    },
    {
      "cell_type": "code",
      "source": [
        "with open(r'/Detecting_and_mapping_of_roadside_trees_from_google_street/MyDrive/Thesis/YOLOv4/darknet/data/valid.txt', 'w') as fp:\n",
        "    for item in valid_data_list:\n",
        "        fp.write(\"%s\\n\" % item)\n",
        "    print('Done')"
      ],
      "metadata": {
        "id": "u2dEvDKV3XSP"
      },
      "execution_count": null,
      "outputs": []
    },
    {
      "cell_type": "markdown",
      "source": [
        "# Training the model"
      ],
      "metadata": {
        "id": "anLb9z5FBrw2"
      }
    },
    {
      "cell_type": "code",
      "source": [
        "%cd /Thesis/MyDrive/Thesis/Yolov4/darknet\n",
        "!sudo chmod +x darknet\n",
        "!make\n",
        "!./darknet"
      ],
      "metadata": {
        "id": "tq84y8vcC31h"
      },
      "execution_count": null,
      "outputs": []
    },
    {
      "cell_type": "markdown",
      "source": [
        "/Thesis/MyDrive/Thesis/Yolov4/darknet/cfg/custom-yolov4-detector.cfg (Click on path to open the file)"
      ],
      "metadata": {
        "id": "6HVcMqZhrYOX"
      }
    },
    {
      "cell_type": "markdown",
      "source": [
        "## From beginning"
      ],
      "metadata": {
        "id": "8F_pfJINCHph"
      }
    },
    {
      "cell_type": "code",
      "source": [
        "!./darknet detector train data/obj.data cfg/custom-yolov4-detector.cfg yolov4.conv.137 -dont_show -map | tee output.log"
      ],
      "metadata": {
        "id": "T44Rgrh7Bywn"
      },
      "execution_count": null,
      "outputs": []
    },
    {
      "cell_type": "markdown",
      "source": [
        "## Resume training"
      ],
      "metadata": {
        "id": "E2fbBQnDCRZt"
      }
    },
    {
      "cell_type": "code",
      "source": [
        "!./darknet detector train data/obj.data cfg/custom-yolov4-detector.cfg backup/custom-yolov4-detector_7100.weights -dont_show -map | tee output.log"
      ],
      "metadata": {
        "id": "RPf0g3_8CT0B"
      },
      "execution_count": null,
      "outputs": []
    },
    {
      "cell_type": "markdown",
      "source": [
        "## Checking mAP"
      ],
      "metadata": {
        "id": "ifaXLSHDCbB0"
      }
    },
    {
      "cell_type": "code",
      "source": [
        "!./darknet detector map data/test.data cfg/custom-yolov4-detector.cfg backup@0.005_lr/custom-yolov4-detector_best.weights -points 0 | tee result_map.txt"
      ],
      "metadata": {
        "id": "XcChCkARCdTp"
      },
      "execution_count": null,
      "outputs": []
    },
    {
      "cell_type": "markdown",
      "source": [
        "## Checking mAP@0.75"
      ],
      "metadata": {
        "id": "rebSNNtFCwYa"
      }
    },
    {
      "cell_type": "code",
      "source": [
        "!./darknet detector map data/obj.data cfg/custom-yolov4-detector.cfg backup@0.005_lr/custom-yolov4-detector_best.weights -iou_thresh 0.75"
      ],
      "metadata": {
        "id": "Um0DCV1BCusz"
      },
      "execution_count": null,
      "outputs": []
    },
    {
      "cell_type": "markdown",
      "source": [
        "# Model Result"
      ],
      "metadata": {
        "id": "VLSIorfyDMtk"
      }
    },
    {
      "cell_type": "markdown",
      "metadata": {
        "id": "8h8vrF56RE0a"
      },
      "source": [
        "## 0.005"
      ]
    },
    {
      "cell_type": "code",
      "execution_count": null,
      "metadata": {
        "id": "NJqWeWSMNcEU"
      },
      "outputs": [],
      "source": [
        "import os\n",
        "import glob\n",
        "import shutil\n",
        "import os.path\n",
        "import numpy as np\n",
        "import pandas as pd\n",
        "import matplotlib.pyplot as plt"
      ]
    },
    {
      "cell_type": "code",
      "execution_count": null,
      "metadata": {
        "id": "WSc8eUeGVEJ5"
      },
      "outputs": [],
      "source": [
        "df_final = pd.read_csv('/Thesis/MyDrive/Thesis/CSV_result@0.005/result_of_all_weight_with_new_test_set.csv') \n",
        "df_final = df_final.drop('Unnamed: 0.1.1', 1)\n",
        "df_final = df_final.drop('Unnamed: 0.1', 1)\n",
        "df_final = df_final.drop('Unnamed: 0', 1)\n",
        "for i in range(0,2):\n",
        "  df_final.drop(index=df_final.index[-1],axis=0,inplace=True)\n",
        "# df_final.sort_values(['Iterations'], inplace=True)\n",
        "df_final"
      ]
    },
    {
      "cell_type": "code",
      "execution_count": null,
      "metadata": {
        "id": "9kZyzeA24p2q"
      },
      "outputs": [],
      "source": [
        "df_final.sort_values(['Iterations'], inplace=True)\n",
        "df_final"
      ]
    },
    {
      "cell_type": "code",
      "execution_count": null,
      "metadata": {
        "id": "-VtnrGSQ6-tH"
      },
      "outputs": [],
      "source": [
        "df_final.plot(x='Iterations', y=['mAP@0.5', 'F1-Score', 'Precision', 'Recall'], \n",
        "                   subplots=True, layout=(2,2), kind='line',figsize=(15, 8), grid=False, alpha = .75)"
      ]
    },
    {
      "cell_type": "code",
      "execution_count": null,
      "metadata": {
        "id": "5IkV-4W2RTZv"
      },
      "outputs": [],
      "source": [
        "df_final.plot(x='Iterations', y=['mAP@0.5'])\n",
        "plt.title('Iterations Vs mAP@0.5')\n",
        "plt.ylabel('mAP@0.5')\n",
        "plt.xlabel('Iterations') "
      ]
    },
    {
      "cell_type": "code",
      "execution_count": null,
      "metadata": {
        "id": "FN6NNJH0RWb5"
      },
      "outputs": [],
      "source": [
        "df_final.plot(x='Iterations', y=['F1-Score'])\n",
        "plt.title('Iterations Vs Performance Metrics')\n",
        "plt.ylabel('Performance Metrics')\n",
        "plt.xlabel('Iterations') "
      ]
    },
    {
      "cell_type": "code",
      "execution_count": null,
      "metadata": {
        "id": "WUpSxySWQPc6"
      },
      "outputs": [],
      "source": [
        "df_final.plot(x='Iterations', y=['Precision'])\n",
        "plt.title('Iterations Vs Performance Metrics')\n",
        "plt.ylabel('Performance Metrics')\n",
        "plt.xlabel('Iterations') "
      ]
    },
    {
      "cell_type": "code",
      "execution_count": null,
      "metadata": {
        "id": "aRKv8cKtQRpT"
      },
      "outputs": [],
      "source": [
        "df_final.plot(x='Iterations', y=['Recall'])\n",
        "plt.title('Iterations Vs Performance Metrics')\n",
        "plt.ylabel('Performance Metrics')\n",
        "plt.xlabel('Iterations') "
      ]
    },
    {
      "cell_type": "markdown",
      "metadata": {
        "id": "QOJrrc7RRtTP"
      },
      "source": [
        "## 0.0025"
      ]
    },
    {
      "cell_type": "code",
      "execution_count": null,
      "metadata": {
        "id": "-wcZTJUMRu5Q"
      },
      "outputs": [],
      "source": [
        "df_final = pd.read_csv('/Thesis/MyDrive/Thesis/CSV_result@0.0025/result_of_all_weight_with_new_test_set.csv') \n",
        "df_final = df_final.drop('Unnamed: 0', 1)\n",
        "df_final = df_final.drop('Unnamed: 0.1', 1)\n",
        "df_final = df_final.drop('Unnamed: 0.1.1', 1)\n",
        "df_final = df_final.drop('Unnamed: 0.1.1.1', 1)\n",
        "for i in range(0,3):\n",
        "  df_final.drop(index=df_final.index[-1],axis=0,inplace=True)\n",
        "df_final"
      ]
    },
    {
      "cell_type": "code",
      "execution_count": null,
      "metadata": {
        "id": "vhPsJ3WhSF-B"
      },
      "outputs": [],
      "source": [
        "df_final.plot(x='Iterations', y=['mAP@0.5'])\n",
        "plt.title('Iterations Vs mAP@0.5')\n",
        "plt.ylabel('mAP@0.5')\n",
        "plt.xlabel('Iterations') "
      ]
    },
    {
      "cell_type": "code",
      "execution_count": null,
      "metadata": {
        "id": "Z39WKkHSSIRi"
      },
      "outputs": [],
      "source": [
        "df_final.plot(x='Iterations', y=['F1-Score', 'Precision', 'Recall'])\n",
        "plt.title('Iterations Vs Performance Metrics')\n",
        "plt.ylabel('Performance Metrics')\n",
        "plt.xlabel('Iterations') "
      ]
    },
    {
      "cell_type": "markdown",
      "metadata": {
        "id": "DIOJohTxSQo2"
      },
      "source": [
        "## 0.001"
      ]
    },
    {
      "cell_type": "code",
      "execution_count": null,
      "metadata": {
        "id": "u8Y3NRhSSSJp"
      },
      "outputs": [],
      "source": [
        "df_final = pd.read_csv('/Thesis/MyDrive/Thesis/CSV_result@0.001/result_of_all_weight_with_new_test_set.csv') \n",
        "df_final = df_final.drop('Unnamed: 0', 1)\n",
        "df_final = df_final.drop('Unnamed: 0.1', 1)\n",
        "df_final = df_final.drop('Unnamed: 0.1.1', 1)\n",
        "df_final = df_final.drop('Unnamed: 0.1.1.1', 1)\n",
        "df_final = df_final.drop('Unnamed: 0.1.1.1.1', 1)\n",
        "df_final = df_final.drop('Unnamed: 0.1.1.1.1.1', 1)\n",
        "for i in range(0,3):\n",
        "  df_final.drop(index=df_final.index[-1],axis=0,inplace=True)\n",
        "df_final"
      ]
    },
    {
      "cell_type": "code",
      "execution_count": null,
      "metadata": {
        "id": "VmtU80yKVjdG"
      },
      "outputs": [],
      "source": [
        "df_final.plot(x='Iterations', y=['mAP@0.5'])\n",
        "plt.title('Iterations Vs mAP@0.5')\n",
        "plt.ylabel('mAP@0.5')\n",
        "plt.xlabel('Iterations') "
      ]
    },
    {
      "cell_type": "code",
      "execution_count": null,
      "metadata": {
        "id": "2FyVSriUVtiI"
      },
      "outputs": [],
      "source": [
        "df_final.plot(x='Iterations', y=['F1-Score', 'Precision', 'Recall'])\n",
        "plt.title('Iterations Vs Performance Metrics')\n",
        "plt.ylabel('Performance Metrics')\n",
        "plt.xlabel('Iterations') "
      ]
    },
    {
      "cell_type": "markdown",
      "metadata": {
        "id": "I98ncVxWTJWo"
      },
      "source": [
        "## 0.0005"
      ]
    },
    {
      "cell_type": "code",
      "execution_count": null,
      "metadata": {
        "id": "CW_oOXZiTLI6"
      },
      "outputs": [],
      "source": [
        "df_final = pd.read_csv('/Thesis/MyDrive/Thesis/CSV_result@0.001/result_of_all_weight_with_new_test_set.csv') \n",
        "df_final = df_final.drop('Unnamed: 0', 1)\n",
        "df_final = df_final.drop('Unnamed: 0.1', 1)\n",
        "df_final = df_final.drop('Unnamed: 0.1.1', 1)\n",
        "df_final = df_final.drop('Unnamed: 0.1.1.1', 1)\n",
        "df_final = df_final.drop('Unnamed: 0.1.1.1.1', 1)\n",
        "df_final = df_final.drop('Unnamed: 0.1.1.1.1.1', 1)\n",
        "for i in range(0,3):\n",
        "  df_final.drop(index=df_final.index[-1],axis=0,inplace=True)\n",
        "df_final"
      ]
    },
    {
      "cell_type": "code",
      "execution_count": null,
      "metadata": {
        "id": "xFt_wsGDTYHi"
      },
      "outputs": [],
      "source": [
        "df_final.plot(x='Iterations', y=['mAP@0.5'])\n",
        "plt.title('Iterations Vs mAP@0.5')\n",
        "plt.ylabel('mAP@0.5')\n",
        "plt.xlabel('Iterations') "
      ]
    },
    {
      "cell_type": "code",
      "execution_count": null,
      "metadata": {
        "id": "T_vjyOj6Tani"
      },
      "outputs": [],
      "source": [
        "df_final.plot(x='Iterations', y=['F1-Score', 'Precision', 'Recall'])\n",
        "plt.title('Iterations Vs Performance Metrics')\n",
        "plt.ylabel('Performance Metrics')\n",
        "plt.xlabel('Iterations') "
      ]
    },
    {
      "cell_type": "markdown",
      "source": [
        "# GSV implementation "
      ],
      "metadata": {
        "id": "KS_CiLA3NiWD"
      }
    },
    {
      "cell_type": "markdown",
      "source": [
        "## Prerequisite"
      ],
      "metadata": {
        "id": "aKtdwX5X6R0v"
      }
    },
    {
      "cell_type": "code",
      "source": [
        "!pip install gmaps\n",
        "!pip install ipywidgets\n",
        "!pip install widgetsnbextension\n",
        "!pip install google_streetview\n",
        "\n",
        "!pip install polyline"
      ],
      "metadata": {
        "id": "WfaJR1uYPaVt"
      },
      "execution_count": null,
      "outputs": []
    },
    {
      "cell_type": "code",
      "source": [
        "import requests\n",
        "import folium\n",
        "import polyline\n",
        "\n",
        "import glob\n",
        "import cv2\n",
        "from skimage import io\n",
        "from PIL import Image\n",
        "from google.colab.patches import cv2_imshow \n",
        "import math\n",
        "from sympy import Point, Line, pi\n",
        "\n",
        "from geographiclib.geodesic import Geodesic\n",
        "\n",
        "import math\n",
        "import numpy as np\n",
        "\n",
        "import google_streetview.api"
      ],
      "metadata": {
        "id": "yo9Mka4p6cTA"
      },
      "execution_count": null,
      "outputs": []
    },
    {
      "cell_type": "code",
      "source": [
        "key = \"YOUR KEY\""
      ],
      "metadata": {
        "id": "RBdpbylwOxn-"
      },
      "execution_count": null,
      "outputs": []
    },
    {
      "cell_type": "code",
      "source": [
        "def bearing(lat1, lng1, lat2, lng2):\n",
        "  return Geodesic.WGS84.Inverse(lat1, lng1, lat2, lng2)['azi1']"
      ],
      "metadata": {
        "id": "KIgzvqU9P7YN"
      },
      "execution_count": null,
      "outputs": []
    },
    {
      "cell_type": "code",
      "source": [
        "def haversine(lat1, lon1, lat2, lon2):\n",
        "     \n",
        "    # distance between latitudes and longitudes\n",
        "    dLat = (lat2 - lat1) * math.pi / 180.0\n",
        "    dLon = (lon2 - lon1) * math.pi / 180.0\n",
        " \n",
        "    # convert to radians\n",
        "    lat1 = (lat1) * math.pi / 180.0\n",
        "    lat2 = (lat2) * math.pi / 180.0\n",
        " \n",
        "    # apply formula\n",
        "    a = (pow(math.sin(dLat / 2), 2) +\n",
        "         pow(math.sin(dLon / 2), 2) *\n",
        "             math.cos(lat1) * math.cos(lat2));\n",
        "    rad = 6371\n",
        "    c = 2 * math.asin(math.sqrt(a))\n",
        "    return rad * c"
      ],
      "metadata": {
        "id": "f_2gk7K4SAIc"
      },
      "execution_count": null,
      "outputs": []
    },
    {
      "cell_type": "code",
      "source": [
        "def gsv_dwn(starting_lat_lng,brng):\n",
        "    params = [{\n",
        "      'size': '640x640', # max 640x640 pixels\n",
        "      'location': starting_lat_lng,\n",
        "      'heading': brng,\n",
        "      'fov': '120',\n",
        "      'pitch': '0',\n",
        "      'key': key\n",
        "    }]\n",
        "\n",
        "    print('GSV')\n",
        "\n",
        "    results = google_streetview.api.results(params)\n",
        "\n",
        "    results.download_links('/content/sample_data/')"
      ],
      "metadata": {
        "id": "6M3vjCiVOTz1"
      },
      "execution_count": null,
      "outputs": []
    },
    {
      "cell_type": "code",
      "source": [
        "def new_lat_lng(lat1, lng1, brng):\n",
        "\n",
        "    R = 6378.1 #Radius of the Earth\n",
        "    brng = math.radians(brng)\n",
        "    # brng = offset_theta\n",
        "    # d = d_temp #in km\n",
        "    d = 0.010\n",
        "\n",
        "    lat1 = math.radians(lat1) \n",
        "    lon1 = math.radians(lng1)\n",
        "\n",
        "    lat2 = math.asin( math.sin(lat1)*math.cos(d/R) +\n",
        "        math.cos(lat1)*math.sin(d/R)*math.cos(brng))\n",
        "\n",
        "    lon2 = lon1 + math.atan2(math.sin(brng)*math.sin(d/R)*math.cos(lat1),\n",
        "                math.cos(d/R)-math.sin(lat1)*math.sin(lat2))\n",
        "\n",
        "    lat2 = math.degrees(lat2)\n",
        "    lon2 = math.degrees(lon2)\n",
        "    print(lat2,',',lon2)\n",
        "    return lat1, lon2"
      ],
      "metadata": {
        "id": "r2hykiiuXuKZ"
      },
      "execution_count": null,
      "outputs": []
    },
    {
      "cell_type": "code",
      "source": [
        "def get_route(pickup_lon, pickup_lat, dropoff_lon, dropoff_lat):\n",
        "    \n",
        "    loc = \"{},{};{},{}\".format(pickup_lon, pickup_lat, dropoff_lon, dropoff_lat)\n",
        "    url = \"http://router.project-osrm.org/route/v1/driving/\"\n",
        "    r = requests.get(url + loc) \n",
        "    if r.status_code!= 200:\n",
        "        return {}\n",
        "  \n",
        "    res = r.json()   \n",
        "    routes = polyline.decode(res['routes'][0]['geometry'])\n",
        "    start_point = [res['waypoints'][0]['location'][1], res['waypoints'][0]['location'][0]]\n",
        "    end_point = [res['waypoints'][1]['location'][1], res['waypoints'][1]['location'][0]]\n",
        "    distance = res['routes'][0]['distance']\n",
        "    \n",
        "    out = {'route':routes,\n",
        "           'start_point':start_point,\n",
        "           'end_point':end_point,\n",
        "           'distance':distance\n",
        "          }\n",
        "\n",
        "    return out,routes"
      ],
      "metadata": {
        "id": "GCR7U_J7gt7Y"
      },
      "execution_count": null,
      "outputs": []
    },
    {
      "cell_type": "markdown",
      "source": [
        "## Taking initial inputs"
      ],
      "metadata": {
        "id": "SsY_xKzX6up4"
      }
    },
    {
      "cell_type": "code",
      "source": [
        "s_lat1, s_lng1 = 23.528633, 90.738236 # user/starting \n",
        "starting_lat_lng = str(s_lat1)+','+str(s_lng1)\n",
        "\n",
        "d_lat2, d_lng2 = 23.529981, 90.762483 # end/destination\n",
        "destination_lat_lng = str(d_lat2)+','+str(d_lng2)\n",
        "\n",
        "test, route = get_route(s_lng1, s_lat1,d_lng2, d_lat2)\n",
        "print(route)\n",
        "print(test)"
      ],
      "metadata": {
        "id": "ZoNrLVGhgx31"
      },
      "execution_count": null,
      "outputs": []
    },
    {
      "cell_type": "markdown",
      "source": [
        "## Calculating intermediate coordinates"
      ],
      "metadata": {
        "id": "F1uSlyKa60wr"
      }
    },
    {
      "cell_type": "code",
      "source": [
        "new_coor_lat = [s_lat1]\n",
        "new_coor_lng = [s_lng1]\n",
        "new_bearing = []\n",
        "\n",
        "for i in range(len(route)):\n",
        "\n",
        "  if i == 0:\n",
        "      hav = haversine(s_lat1, s_lng1, route[i][0], route[i][1])\n",
        "      brng = bearing(s_lat1, s_lng1, route[i][0], route[i][1])\n",
        "      lat1, lng1, = s_lat1, s_lng1\n",
        "  else:\n",
        "    hav = haversine(route[i-1][0], route[i-1][1], route[i][0], route[i][1])\n",
        "    brng = bearing(route[i-1][0], route[i-1][1], route[i][0], route[i][1])\n",
        "    lat1, lng1, = route[i-1][0], route[i-1][1]\n",
        "\n",
        "  if hav > 0.010:\n",
        "    while hav > 0.010:\n",
        "      \n",
        "      R = 6378.1 #Radius of the Earth\n",
        "      new_bearing.append(brng)\n",
        "      brng = math.radians(brng)\n",
        "      d = 0.010\n",
        "\n",
        "      lat1 = math.radians(lat1) \n",
        "      lon1 = math.radians(lng1)\n",
        "\n",
        "      lat2 = math.asin( math.sin(lat1)*math.cos(d/R) +\n",
        "          math.cos(lat1)*math.sin(d/R)*math.cos(brng))\n",
        "\n",
        "      lon2 = lon1 + math.atan2(math.sin(brng)*math.sin(d/R)*math.cos(lat1),\n",
        "                  math.cos(d/R)-math.sin(lat1)*math.sin(lat2))\n",
        "\n",
        "      lat2 = math.degrees(lat2)\n",
        "      lon2 = math.degrees(lon2)\n",
        "\n",
        "      new_coor_lat.append(lat2)\n",
        "      new_coor_lng.append(lon2)\n",
        "\n",
        "      hav = haversine(lat2, lon2, route[i][0], route[i][1])\n",
        "      brng = bearing(lat2, lon2, route[i][0], route[i][1])\n",
        "\n",
        "      lat1, lng1 = lat2, lon2\n",
        "\n",
        "  else:\n",
        "    new_coor_lat.append(route[i][0])\n",
        "    new_coor_lng.append(route[i][1])\n"
      ],
      "metadata": {
        "id": "RXAhJ3iJivLn"
      },
      "execution_count": null,
      "outputs": []
    },
    {
      "cell_type": "markdown",
      "source": [
        "## Object detection on downloaded GSV images"
      ],
      "metadata": {
        "id": "c2mjGQ6M6_fv"
      }
    },
    {
      "cell_type": "code",
      "source": [
        "user_lat = []\n",
        "user_lng = []\n",
        "tree_lat = []\n",
        "tree_lng = []\n",
        "tree_distance = []\n",
        "tree_side = []\n",
        "\n",
        "%cd /Detecting_and_mapping_of_roadside_trees_from_google_street/MyDrive/Thesis/Yolov4/darknet\n",
        "!sudo chmod +x darknet\n",
        "!./darknet\n",
        "\n",
        "for i in zip(new_coor_lat, new_coor_lng, new_bearing):\n",
        "  inter_coors = str(i[0])+','+str(i[1])\n",
        "\n",
        "  temp_index = new_coor_lat.index(i[0])\n",
        "  brng = bearing(i[0], i[1],new_coor_lat[temp_index+1], new_coor_lng[temp_index+1])\n",
        "\n",
        "  print('inter_coors: ',inter_coors, ' ','  Beaaring: ', i[2])\n",
        "  gsv_dwn(inter_coors,brng)\n",
        "  image_path = '/content/sample_data/gsv_0.jpg'\n",
        "  !./darknet detector test data/obj.data cfg/custom-yolov4-detector.cfg backup/custom-yolov4-detector_best.weights {image_path} -dont_show -ext_output < data/train.txt > result.txt\n",
        "  \n",
        "  left_x = 0\n",
        "  top_y = 0\n",
        "  width = 0\n",
        "  height = 0\n",
        "\n",
        "  f = open('/Detecting_and_mapping_of_roadside_trees_from_google_street/MyDrive/Thesis/Yolov4/darknet/result.txt', 'r')\n",
        "  for line in f:\n",
        "    if 'Tree' in line:\n",
        "      temp = line.split('\\n')\n",
        "      for temp2 in temp:\n",
        "        if temp2 != '':\n",
        "\n",
        "          temp3 = temp2.split('\\t')\n",
        "          temp4 = temp3[1].split(' ')\n",
        "          temp4 = list(filter(None, temp4))\n",
        "\n",
        "          for i in range(len(temp4)):\n",
        "            if temp4[i] == '(left_x:':\n",
        "              left_x = int(temp4[i+1])\n",
        "            elif temp4[i] == 'top_y:':\n",
        "              top_y = int(temp4[i+1])\n",
        "            elif temp4[i] == 'width:':\n",
        "              width = int(temp4[i+1])\n",
        "            elif temp4[i] == 'height:':\n",
        "              height = temp4[i+1]\n",
        "              height = int(height.replace(')',''))\n",
        "              \n",
        "\n",
        "\n",
        "          path = '/Detecting_and_mapping_of_roadside_trees_from_google_street/MyDrive/Thesis/Yolov4/darknet/predictions.jpg'\n",
        "          img = Image.open(path)\n",
        "          image = cv2.cvtColor(io.imread(path),cv2.COLOR_BGR2RGB)\n",
        "          img_width, img_height = img.size\n",
        "          cv2_imshow(image)\n",
        "\n",
        "\n",
        "          result = image.copy()\n",
        "          x1, y1 = round(img_width/2), img_height\n",
        "          x2, y2 = round(img_width/2), 0\n",
        "\n",
        "          x3, y3 = left_x + round(width / 2), top_y + height   # left_x + round(width / 2), top_y + height\n",
        "\n",
        "          cv2.line(result, (x1, y1), (x2, y2), (255, 255, 0, 255), 3)\n",
        "          cv2.line(result, (x1, y1), (x3, y3), (255, 255, 0, 255), 3)\n",
        "\n",
        "          \n",
        "          cv2_imshow(result)\n",
        "\n",
        "\n",
        "\n",
        "\n",
        "          l1 = Line((x1, y1), (x2, y2))\n",
        "          l2 = Line((x1, y1), (x3, y3))\n",
        "\n",
        "          rad = l1.angle_between(l2)\n",
        "          rslt =  math.degrees(rad)\n",
        "          if (l2.slope>0):\n",
        "            rslt = 360 - rslt  \n",
        "            \n",
        "\n",
        "          side = ''\n",
        "          if rslt <=90:\n",
        "            side = 'right'\n",
        "          elif rslt >= 270:\n",
        "            side = 'left'\n",
        "\n",
        "\n",
        "          focal_length =  5.1 #mm\n",
        "          sensor_height = 8.8/1000 # 8.8 μm\n",
        "          real_height = 12500 #mm 1. (12.5m) * 1000 || 2. Manually measured real height of a tree  \n",
        "          image_height = img_height * 0.2645833333 #pixels\n",
        "          object_height = height *0.2645833333 #pixels || It will change according to bounding box of detected tree\n",
        "\n",
        "          distance = ( focal_length * real_height  ) / ( object_height * sensor_height )\n",
        "          calculated_distance = distance/10\n",
        "          d_temp = distance/1000/1000\n",
        "\n",
        "\n",
        "\n",
        "\n",
        "          offset = rslt\n",
        "          temp = brng + offset\n",
        "          offset_theta = math.radians(temp)\n",
        "\n",
        "\n",
        "\n",
        "\n",
        "          R = 6378.1 #Radius of the Earth\n",
        "          print('Bearing: ',brng)\n",
        "          brng = math.radians(brng)\n",
        "          d = d_temp #in km\n",
        "\n",
        "          print('inter_coors: ',inter_coors,' type: ',type(inter_coors),'  Distance: ', d_temp)\n",
        "\n",
        "          temp_inter_coor = inter_coors.split(',')\n",
        "\n",
        "          print('inter_coors:(lat) ',temp_inter_coor[0],'  type:  ',type(temp_inter_coor[0]),\n",
        "                ' inter_coors:(lng): ',temp_inter_coor[1],'  type:  ',type(temp_inter_coor[1]))\n",
        "          \n",
        "          lat1 = math.radians(float(temp_inter_coor[0])) \n",
        "          lon1 = math.radians(float(temp_inter_coor[1]))\n",
        "\n",
        "          lat2 = math.asin( math.sin(lat1)*math.cos(d/R) +\n",
        "              math.cos(lat1)*math.sin(d/R)*math.cos(brng))\n",
        "\n",
        "          lon2 = lon1 + math.atan2(math.sin(brng)*math.sin(d/R)*math.cos(lat1),\n",
        "                      math.cos(d/R)-math.sin(lat1)*math.sin(lat2))\n",
        "\n",
        "          lat2 = math.degrees(lat2)\n",
        "          lon2 = math.degrees(lon2)\n",
        "\n",
        "          user_lat.append(lat1)\n",
        "          user_lng.append(lng1)\n",
        "          tree_lat.append(lat2)\n",
        "          tree_lng.append(lon2)\n",
        "          tree_distance.append(d_temp)\n",
        "          tree_side.append(side)\n",
        "\n",
        "          print('new_lat  ',lat2,'  new_lng: ',lon2)\n",
        "            "
      ],
      "metadata": {
        "id": "7VYoiTpsb77t"
      },
      "execution_count": null,
      "outputs": []
    },
    {
      "cell_type": "markdown",
      "source": [
        "## Storing new tree coordinates"
      ],
      "metadata": {
        "id": "qeJiSRes7mTA"
      }
    },
    {
      "cell_type": "code",
      "source": [
        "import pandas as pd\n",
        "\n",
        "dataframe = {'user_lat':user_lat,\n",
        "                       'user_lng':user_lng,\n",
        "                       'tree_lat':tree_lat,\n",
        "                       'tree_lng':tree_lng,\n",
        "                       'distance':tree_distance,\n",
        "                       'side':tree_side\n",
        "                       }\n",
        "data = pd.DataFrame.from_dict(dataframe)      \n",
        "data              "
      ],
      "metadata": {
        "id": "AFAyUbwBFcSX"
      },
      "execution_count": null,
      "outputs": []
    },
    {
      "cell_type": "markdown",
      "source": [
        "## Checking free spaces for plating new trees"
      ],
      "metadata": {
        "id": "_5Z9NulO71Td"
      }
    },
    {
      "cell_type": "code",
      "source": [
        "hav_distance_list = []\n",
        "possibility = []\n",
        "\n",
        "new_tree_lat = []\n",
        "new_tree_lng = []\n",
        "\n",
        "from_lat = []\n",
        "from_lng = []\n",
        "\n",
        "\n",
        "for i in range(len(data)-1):\n",
        "\n",
        "  if (data.loc[i,'tree_lat'])\n",
        "\n",
        "  hav_dis = haversine(data.loc[i,'tree_lat'],data.loc[i,'tree_lng'], data.loc[i+1,'tree_lat'],data.loc[i+1,'tree_lng'])\n",
        "\n",
        "  if (hav_dis*1000) >= 24:\n",
        "\n",
        "    hav_distance_list.append(hav_dis*1000)\n",
        "    possibility.append('Yes Possible')\n",
        "\n",
        "    brng = bearing(data.loc[i,'tree_lat'],data.loc[i,'tree_lng'], data.loc[i+1,'tree_lat'],data.loc[i+1,'tree_lng'])\n",
        "\n",
        "    R = 6378.1 #Radius of the Earth\n",
        "    brng = math.radians(brng)\n",
        "    d = 0.012 #in km\n",
        "          \n",
        "    lat1 = math.radians(float(data.loc[i,'tree_lat'])) \n",
        "    lon1 = math.radians(float(data.loc[i,'tree_lng']))\n",
        "\n",
        "    lat2 = math.asin( math.sin(lat1)*math.cos(d/R) +\n",
        "              math.cos(lat1)*math.sin(d/R)*math.cos(brng))\n",
        "\n",
        "    lon2 = lon1 + math.atan2(math.sin(brng)*math.sin(d/R)*math.cos(lat1),\n",
        "                      math.cos(d/R)-math.sin(lat1)*math.sin(lat2))\n",
        "\n",
        "    lat2 = math.degrees(lat2)\n",
        "    lon2 = math.degrees(lon2)\n",
        "\n",
        "    new_tree_lat.append(lat2)\n",
        "    new_tree_lng.append(lon2)\n",
        "    \n",
        "    from_lat.append(data.loc[i,'tree_lat'])\n",
        "    from_lng.append(data.loc[i,'tree_lng'])\n",
        "\n",
        "  else:\n",
        "    hav_distance_list.append(hav_dis*1000)\n",
        "    possibility.append('Not Possible')\n",
        "\n",
        "hav_distance_list.append(0)\n",
        "possibility.append('N/A')\n",
        "\n",
        "data.insert(6, 'Haversine distance', hav_distance_list, True)\n",
        "data.insert(7, 'Possibility', possibility, True)\n",
        "data"
      ],
      "metadata": {
        "id": "8hiGX26fszAF"
      },
      "execution_count": null,
      "outputs": []
    },
    {
      "cell_type": "code",
      "source": [
        "data.to_csv('/content/sample_data/data.csv')"
      ],
      "metadata": {
        "id": "g52fIJGo9RGk"
      },
      "execution_count": null,
      "outputs": []
    },
    {
      "cell_type": "markdown",
      "source": [
        "## Mark both existing & possible new trees coordinates"
      ],
      "metadata": {
        "id": "EUIdoepR7-Br"
      }
    },
    {
      "cell_type": "code",
      "source": [
        "from google.colab import output\n",
        "output.enable_custom_widget_manager()"
      ],
      "metadata": {
        "id": "nH1y_y2M0gw3"
      },
      "execution_count": null,
      "outputs": []
    },
    {
      "cell_type": "code",
      "source": [
        "new_trees = []\n",
        "\n",
        "for i in zip(new_tree_lat,new_tree_lng):\n",
        "  new_trees.append(i)"
      ],
      "metadata": {
        "id": "tLPw96df2MCQ"
      },
      "execution_count": null,
      "outputs": []
    },
    {
      "cell_type": "code",
      "source": [
        "existing_trees = []\n",
        "\n",
        "for i in zip(from_lat,from_lng):\n",
        "  existing_trees.append(i)"
      ],
      "metadata": {
        "id": "DhIfYBnu413Q"
      },
      "execution_count": null,
      "outputs": []
    },
    {
      "cell_type": "code",
      "source": [
        "import gmaps\n",
        "\n",
        "gmaps.configure(api_key=\"YOUR KEY\")\n",
        "\n",
        "existing_trees_layer = gmaps.symbol_layer(\n",
        "existing_trees, fill_color='green', stroke_color='green', scale=5\n",
        ")\n",
        "\n",
        "new_trees_layer = gmaps.symbol_layer(\n",
        "new_trees, fill_color='blue', stroke_color='blue', scale=5\n",
        ")\n",
        "\n",
        "\n",
        "fig = gmaps.figure()\n",
        "fig.add_layer(existing_trees_layer)\n",
        "fig.add_layer(new_trees_layer)\n",
        "fig"
      ],
      "metadata": {
        "id": "OR14Ivo_0FAV"
      },
      "execution_count": null,
      "outputs": []
    },
    {
      "cell_type": "markdown",
      "source": [
        "# Research verification"
      ],
      "metadata": {
        "id": "nqLinqHLhkXa"
      }
    },
    {
      "cell_type": "code",
      "source": [
        "from google.colab import output\n",
        "output.disable_custom_widget_manager()"
      ],
      "metadata": {
        "id": "asoCeJd30gw4"
      },
      "execution_count": null,
      "outputs": []
    },
    {
      "cell_type": "markdown",
      "source": [
        "## Mount with Google drive"
      ],
      "metadata": {
        "id": "zgWZ08w6hKcR"
      }
    },
    {
      "cell_type": "code",
      "execution_count": null,
      "metadata": {
        "id": "SyypRGYPT_4r"
      },
      "outputs": [],
      "source": [
        "from google.colab import drive\n",
        "drive.mount('/Detecting_and_mapping_of_roadside_trees_from_google_street')"
      ]
    },
    {
      "cell_type": "markdown",
      "source": [
        "## Locating YOLOv4 model "
      ],
      "metadata": {
        "id": "U1bxjZHmhx-M"
      }
    },
    {
      "cell_type": "code",
      "source": [
        "%cd /Detecting_and_mapping_of_roadside_trees_from_google_street/MyDrive/Thesis/Yolov4/darknet\n",
        "!sudo chmod +x darknet\n",
        "!./darknet"
      ],
      "metadata": {
        "id": "X1AaX-x6dJSV"
      },
      "execution_count": null,
      "outputs": []
    },
    {
      "cell_type": "markdown",
      "source": [
        "## Running YOLOv4 model on captured image"
      ],
      "metadata": {
        "id": "UUcCDTa5iIIw"
      }
    },
    {
      "cell_type": "code",
      "source": [
        "des = \"/Detecting_and_mapping_of_roadside_trees_from_google_street/MyDrive/Thesis/9th_Feb/T5/IMG_20220209_155048.jpg\"\n",
        "!./darknet detector test data/obj.data cfg/custom-yolov4-detector.cfg backup/custom-yolov4-detector_best.weights {des} -dont_show -ext_output < data/train.txt > result.txt"
      ],
      "metadata": {
        "id": "zPjUJ6Qok1OX"
      },
      "execution_count": null,
      "outputs": []
    },
    {
      "cell_type": "markdown",
      "source": [
        "## Visualizing the predicted image"
      ],
      "metadata": {
        "id": "sNpHSgTLiTxs"
      }
    },
    {
      "cell_type": "code",
      "source": [
        "import cv2\n",
        "from skimage import io\n",
        "from PIL import Image\n",
        "from google.colab.patches import cv2_imshow \n",
        "\n",
        "path = '/Detecting_and_mapping_of_roadside_trees_from_google_street/MyDrive/Thesis/Yolov4/darknet/predictions.jpg'\n",
        "img = Image.open(path)\n",
        "image = cv2.cvtColor(io.imread(path),cv2.COLOR_BGR2RGB)\n",
        "width, height = img.size\n",
        "print('Width: ',width,'\\n' 'Height: ',height)\n",
        "cv2_imshow(image)"
      ],
      "metadata": {
        "id": "3qA32neHlHme"
      },
      "execution_count": null,
      "outputs": []
    },
    {
      "cell_type": "markdown",
      "source": [
        "## Retrieving Tree detection information"
      ],
      "metadata": {
        "id": "hHprztD7idd1"
      }
    },
    {
      "cell_type": "code",
      "source": [
        "f = open('/Detecting_and_mapping_of_roadside_trees_from_google_street/MyDrive/Thesis/Yolov4/darknet/result.txt', 'r')\n",
        "for line in f:\n",
        "  if 'Tree' in line:\n",
        "    print(line)"
      ],
      "metadata": {
        "id": "lxaUDFDusnUQ"
      },
      "execution_count": null,
      "outputs": []
    },
    {
      "cell_type": "markdown",
      "source": [
        "## Plotting line on predicted image"
      ],
      "metadata": {
        "id": "GO0bFfkeioaX"
      }
    },
    {
      "cell_type": "code",
      "source": [
        "result = image.copy()\n",
        "x1, y1 = round(width/2), height\n",
        "x2, y2 = round(width/2), 0\n",
        "\n",
        "x3, y3 = 1   +round(219      /2),115     +383   # left_x + round(width / 2), top_y + height\n",
        "\n",
        "cv2.line(result, (x1, y1), (x2, y2), (255, 255, 0, 255), 3)\n",
        "cv2.line(result, (x1, y1), (x3, y3), (255, 255, 0, 255), 3)\n",
        "\n",
        "cv2_imshow(result)"
      ],
      "metadata": {
        "id": "t3oBRfWZmXnF"
      },
      "execution_count": null,
      "outputs": []
    },
    {
      "cell_type": "markdown",
      "source": [
        "## Finding angle in between lines "
      ],
      "metadata": {
        "id": "vDDvXfL8iukv"
      }
    },
    {
      "cell_type": "code",
      "source": [
        "import math\n",
        "from sympy import Point, Line, pi\n",
        "\n",
        "l1 = Line((x1, y1), (x2, y2))\n",
        "l2 = Line((x1, y1), (x3, y3))\n",
        "\n",
        "rad = l1.angle_between(l2)\n",
        "rslt =  math.degrees(rad)\n",
        "if (l2.slope>0):\n",
        "  rslt = 360 - rslt  \n",
        "print('For 1st tree: ',rslt, 'Degree')"
      ],
      "metadata": {
        "id": "LtrBWWYQs93E"
      },
      "execution_count": null,
      "outputs": []
    },
    {
      "cell_type": "markdown",
      "source": [
        "## Finding distance of detected tree using \"Photogrammetry Technique\""
      ],
      "metadata": {
        "id": "dnFpNDYri4Qt"
      }
    },
    {
      "cell_type": "code",
      "source": [
        "focal_length = 4 #mm\n",
        "sensor_height = 0.9/1000 # 8.8 μm\n",
        "real_height = 600 #mm 1. (12.5m) * 1000 || 2. Manually measured real height of a tree  \n",
        "image_height = height * 0.2645833333 #pixels\n",
        "object_height = 2196 *0.2645833333#pixels || It will change according to bounding box of detected tree\n",
        "\n",
        "distance = ( focal_length * real_height  ) / ( object_height * sensor_height )\n",
        "calculated_distance = distance/10\n",
        "print('For 1st tree: ',distance/10, 'cm')\n",
        "d_temp = distance/1000/1000"
      ],
      "metadata": {
        "id": "-xYL2m3nuzhy"
      },
      "execution_count": null,
      "outputs": []
    },
    {
      "cell_type": "markdown",
      "source": [
        "## Taking coordinates input"
      ],
      "metadata": {
        "id": "A-VGKjd7jd05"
      }
    },
    {
      "cell_type": "code",
      "source": [
        "lat1, lng1 = 23.758034,90.371294 # user/starting \n",
        "starting_lat_lng = str(lat1+','+lng1)\n",
        "\n",
        "lat2, lng2 = 23.753572, 90.376398 # end/destination\n",
        "destination_lat_lng = str(lat2+','+lng2)"
      ],
      "metadata": {
        "id": "KReaMkTIvOCq"
      },
      "execution_count": null,
      "outputs": []
    },
    {
      "cell_type": "markdown",
      "source": [
        "## Calculating bearing between starting & destination coordinates"
      ],
      "metadata": {
        "id": "22opOD_Wj3C_"
      }
    },
    {
      "cell_type": "code",
      "source": [
        "from geographiclib.geodesic import Geodesic\n",
        "brng = Geodesic.WGS84.Inverse(lat1, lng1, lat2, lng2)['azi1']\n",
        "print(brng, 'Degree')"
      ],
      "metadata": {
        "id": "Da1v4H2vwTfQ"
      },
      "execution_count": null,
      "outputs": []
    },
    {
      "cell_type": "markdown",
      "source": [
        "## Adding both bearing "
      ],
      "metadata": {
        "id": "ZwxxFi5OkBp5"
      }
    },
    {
      "cell_type": "code",
      "source": [
        "offset = rslt\n",
        "temp = brng + offset\n",
        "offset_theta = math.radians(temp)\n",
        "print('For 1st tree: ',temp, 'Degree')\n",
        "print('For 1st tree: ',offset_theta, 'Radians')\n",
        "\n",
        "print('\\n')"
      ],
      "metadata": {
        "id": "x4zvsRXJwZG4"
      },
      "execution_count": null,
      "outputs": []
    },
    {
      "cell_type": "markdown",
      "source": [
        "## Calcuting detected tree coordinates"
      ],
      "metadata": {
        "id": "R3EFLvNOkKL-"
      }
    },
    {
      "cell_type": "code",
      "source": [
        "R = 6378.1 #Radius of the Earth\n",
        "brng = math.radians(brng)\n",
        "# brng = offset_theta\n",
        "d = d_temp #in km\n",
        "# d = 0.010\n",
        "\n",
        "lat1 = math.radians(lat1) \n",
        "lon1 = math.radians(lng1)\n",
        "\n",
        "lat2 = math.asin( math.sin(lat1)*math.cos(d/R) +\n",
        "     math.cos(lat1)*math.sin(d/R)*math.cos(brng))\n",
        "\n",
        "lon2 = lon1 + math.atan2(math.sin(brng)*math.sin(d/R)*math.cos(lat1),\n",
        "             math.cos(d/R)-math.sin(lat1)*math.sin(lat2))\n",
        "\n",
        "lat2 = math.degrees(lat2)\n",
        "lon2 = math.degrees(lon2)\n",
        "# lon2 = (lon2+540)%360 -180\n",
        "print(lat2,',',lon2)"
      ],
      "metadata": {
        "id": "ZkW5GGuRwbBA"
      },
      "execution_count": null,
      "outputs": []
    },
    {
      "cell_type": "markdown",
      "source": [
        "## Intermediate coordinates"
      ],
      "metadata": {
        "id": "-e93uHySEtFu"
      }
    },
    {
      "cell_type": "code",
      "source": [
        "def haversine(lat1, lon1, lat2, lon2):\n",
        "     \n",
        "    # distance between latitudes and longitudes\n",
        "    dLat = (lat2 - lat1) * math.pi / 180.0\n",
        "    dLon = (lon2 - lon1) * math.pi / 180.0\n",
        " \n",
        "    # convert to radians\n",
        "    lat1 = (lat1) * math.pi / 180.0\n",
        "    lat2 = (lat2) * math.pi / 180.0\n",
        " \n",
        "    # apply formula\n",
        "    a = (pow(math.sin(dLat / 2), 2) +\n",
        "         pow(math.sin(dLon / 2), 2) *\n",
        "             math.cos(lat1) * math.cos(lat2));\n",
        "    rad = 6371\n",
        "    c = 2 * math.asin(math.sqrt(a))\n",
        "    return rad * c"
      ],
      "metadata": {
        "id": "Kr-lQ-dTEuZJ"
      },
      "execution_count": null,
      "outputs": []
    },
    {
      "cell_type": "code",
      "source": [
        "def bearing(lat1, lng1, lat2, lng2):\n",
        "  return Geodesic.WGS84.Inverse(lat1, lng1, lat2, lng2)['azi1']"
      ],
      "metadata": {
        "id": "bUIfNQwGFOAU"
      },
      "execution_count": null,
      "outputs": []
    },
    {
      "cell_type": "markdown",
      "source": [
        "## Mark on map"
      ],
      "metadata": {
        "id": "lvZ6Kpb_GWd3"
      }
    },
    {
      "cell_type": "code",
      "source": [
        "import gmaps\n",
        "\n",
        "gmaps.configure(api_key=\"YOUR KEY\")\n",
        "\n",
        "\n",
        "existing_trees = (lat1, lng1)\n",
        "existing_trees_layer = gmaps.symbol_layer(\n",
        "existing_trees, fill_color='green', stroke_color='green', scale=5\n",
        ")\n",
        "\n",
        "new_trees = (lat2,lon2)\n",
        "new_trees_layer = gmaps.symbol_layer(\n",
        "new_trees, fill_color='blue', stroke_color='blue', scale=5\n",
        ")\n",
        "# print(type(marker_locations))\n",
        "fig = gmaps.figure()\n",
        "# markers = gmaps.marker_layer(marker_locations)\n",
        "# fig.add_layer(markers)\n",
        "# fig\n",
        "\n",
        "fig.add_layer(existing_trees_layer)\n",
        "fig.add_layer(new_trees_layer)\n",
        "fig"
      ],
      "metadata": {
        "id": "romsJjOT51TM"
      },
      "execution_count": null,
      "outputs": []
    },
    {
      "cell_type": "markdown",
      "source": [
        "## Measuring coordinates error"
      ],
      "metadata": {
        "id": "FBdDPSqVkSrL"
      }
    },
    {
      "cell_type": "code",
      "source": [
        "actual_lat, actual_lng = 23.752442,90.372702\n",
        "# calculated_lat, calculated_lng = lat2 , lon2\n",
        "calculated_lat, calculated_lng = 23.75243706 , 90.37270211\n",
        "print(calculated_lat)\n",
        "print(calculated_lng)\n",
        "diff_lat = (calculated_lat - actual_lat) * (math.pi / 180.0)\n",
        "diff_lng = (calculated_lng - actual_lng) * (math.pi / 180.0)\n",
        "\n",
        "actual_lat, actual_lng = actual_lat * (math.pi / 180.0), actual_lng * (math.pi / 180.0)\n",
        "error_lat = abs(diff_lat/actual_lat) \n",
        "error_lng = abs(diff_lng/actual_lng) \n",
        "\n",
        "print(error_lat * 100, error_lng * 100)"
      ],
      "metadata": {
        "id": "lm2r3PHCwfTQ"
      },
      "execution_count": null,
      "outputs": []
    },
    {
      "cell_type": "markdown",
      "source": [
        "## Measuring distance error"
      ],
      "metadata": {
        "id": "HO5BwEThkYYY"
      }
    },
    {
      "cell_type": "code",
      "source": [
        "actual_distance = 1661\n",
        "calculated_distance = 1618.424755\n",
        "dif_distance = calculated_distance - actual_distance\n",
        "error = abs(dif_distance)/actual_distance\n",
        "print(calculated_distance)\n",
        "print(error * 100)"
      ],
      "metadata": {
        "id": "HHlEbakQxHOB"
      },
      "execution_count": null,
      "outputs": []
    }
  ]
}